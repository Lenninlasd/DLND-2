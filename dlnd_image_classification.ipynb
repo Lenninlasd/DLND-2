{
 "cells": [
  {
   "cell_type": "markdown",
   "metadata": {
    "collapsed": true
   },
   "source": [
    "# Image Classification\n",
    "In this project, you'll classify images from the [CIFAR-10 dataset](https://www.cs.toronto.edu/~kriz/cifar.html).  The dataset consists of airplanes, dogs, cats, and other objects. You'll preprocess the images, then train a convolutional neural network on all the samples. The images need to be normalized and the labels need to be one-hot encoded.  You'll get to apply what you learned and build a convolutional, max pooling, dropout, and fully connected layers.  At the end, you'll get to see your neural network's predictions on the sample images.\n",
    "## Get the Data\n",
    "Run the following cell to download the [CIFAR-10 dataset for python](https://www.cs.toronto.edu/~kriz/cifar-10-python.tar.gz)."
   ]
  },
  {
   "cell_type": "code",
   "execution_count": 95,
   "metadata": {},
   "outputs": [
    {
     "name": "stdout",
     "output_type": "stream",
     "text": [
      "All files found!\n"
     ]
    }
   ],
   "source": [
    "\"\"\"\n",
    "DON'T MODIFY ANYTHING IN THIS CELL THAT IS BELOW THIS LINE\n",
    "\"\"\"\n",
    "from urllib.request import urlretrieve\n",
    "from os.path import isfile, isdir\n",
    "from tqdm import tqdm\n",
    "import problem_unittests as tests\n",
    "import tarfile\n",
    "\n",
    "cifar10_dataset_folder_path = 'cifar-10-batches-py'\n",
    "\n",
    "# Use Floyd's cifar-10 dataset if present\n",
    "floyd_cifar10_location = '/input/cifar-10/python.tar.gz'\n",
    "if isfile(floyd_cifar10_location):\n",
    "    tar_gz_path = floyd_cifar10_location\n",
    "else:\n",
    "    tar_gz_path = 'cifar-10-python.tar.gz'\n",
    "\n",
    "class DLProgress(tqdm):\n",
    "    last_block = 0\n",
    "\n",
    "    def hook(self, block_num=1, block_size=1, total_size=None):\n",
    "        self.total = total_size\n",
    "        self.update((block_num - self.last_block) * block_size)\n",
    "        self.last_block = block_num\n",
    "\n",
    "if not isfile(tar_gz_path):\n",
    "    with DLProgress(unit='B', unit_scale=True, miniters=1, desc='CIFAR-10 Dataset') as pbar:\n",
    "        urlretrieve(\n",
    "            'https://www.cs.toronto.edu/~kriz/cifar-10-python.tar.gz',\n",
    "            tar_gz_path,\n",
    "            pbar.hook)\n",
    "\n",
    "if not isdir(cifar10_dataset_folder_path):\n",
    "    with tarfile.open(tar_gz_path) as tar:\n",
    "        tar.extractall()\n",
    "        tar.close()\n",
    "\n",
    "\n",
    "tests.test_folder_path(cifar10_dataset_folder_path)"
   ]
  },
  {
   "cell_type": "markdown",
   "metadata": {},
   "source": [
    "## Explore the Data\n",
    "The dataset is broken into batches to prevent your machine from running out of memory.  The CIFAR-10 dataset consists of 5 batches, named `data_batch_1`, `data_batch_2`, etc.. Each batch contains the labels and images that are one of the following:\n",
    "* airplane\n",
    "* automobile\n",
    "* bird\n",
    "* cat\n",
    "* deer\n",
    "* dog\n",
    "* frog\n",
    "* horse\n",
    "* ship\n",
    "* truck\n",
    "\n",
    "Understanding a dataset is part of making predictions on the data.  Play around with the code cell below by changing the `batch_id` and `sample_id`. The `batch_id` is the id for a batch (1-5). The `sample_id` is the id for a image and label pair in the batch.\n",
    "\n",
    "Ask yourself \"What are all possible labels?\", \"What is the range of values for the image data?\", \"Are the labels in order or random?\".  Answers to questions like these will help you preprocess the data and end up with better predictions."
   ]
  },
  {
   "cell_type": "code",
   "execution_count": 96,
   "metadata": {},
   "outputs": [
    {
     "name": "stdout",
     "output_type": "stream",
     "text": [
      "\n",
      "Stats of batch 1:\n",
      "Samples: 10000\n",
      "Label Counts: {0: 1005, 1: 974, 2: 1032, 3: 1016, 4: 999, 5: 937, 6: 1030, 7: 1001, 8: 1025, 9: 981}\n",
      "First 20 Labels: [6, 9, 9, 4, 1, 1, 2, 7, 8, 3, 4, 7, 7, 2, 9, 9, 9, 3, 2, 6]\n",
      "\n",
      "Example of Image 5:\n",
      "Image - Min Value: 0 Max Value: 252\n",
      "Image - Shape: (32, 32, 3)\n",
      "Label - Label Id: 1 Name: automobile\n"
     ]
    },
    {
     "data": {
      "image/png": "[encoded data removed]",
      "text/plain": [
       "<matplotlib.figure.Figure at 0x7f6ff6c83518>"
      ]
     },
     "metadata": {
      "image/png": {
       "height": 250,
       "width": 253
      }
     },
     "output_type": "display_data"
    }
   ],
   "source": [
    "%matplotlib inline\n",
    "%config InlineBackend.figure_format = 'retina'\n",
    "\n",
    "import helper\n",
    "import numpy as np\n",
    "\n",
    "# Explore the dataset\n",
    "batch_id = 1\n",
    "sample_id = 5\n",
    "helper.display_stats(cifar10_dataset_folder_path, batch_id, sample_id)"
   ]
  },
  {
   "cell_type": "markdown",
   "metadata": {},
   "source": [
    "## Implement Preprocess Functions\n",
    "### Normalize\n",
    "In the cell below, implement the `normalize` function to take in image data, `x`, and return it as a normalized Numpy array. The values should be in the range of 0 to 1, inclusive.  The return object should be the same shape as `x`."
   ]
  },
  {
   "cell_type": "code",
   "execution_count": 118,
   "metadata": {},
   "outputs": [
    {
     "name": "stdout",
     "output_type": "stream",
     "text": [
      "Tests Passed\n"
     ]
    }
   ],
   "source": [
    "def normalize(x):\n",
    "    \"\"\"\n",
    "    Normalize a list of sample image data in the range of 0 to 1\n",
    "    : x: List of image data.  The image shape is (32, 32, 3)\n",
    "    : return: Numpy array of normalize data\n",
    "    \"\"\"\n",
    "    # TODO: Implement Function\n",
    "    return x/255\n",
    "\n",
    "\"\"\"\n",
    "DON'T MODIFY ANYTHING IN THIS CELL THAT IS BELOW THIS LINE\n",
    "\"\"\"\n",
    "tests.test_normalize(normalize)"
   ]
  },
  {
   "cell_type": "markdown",
   "metadata": {},
   "source": [
    "### One-hot encode\n",
    "Just like the previous code cell, you'll be implementing a function for preprocessing.  This time, you'll implement the `one_hot_encode` function. The input, `x`, are a list of labels.  Implement the function to return the list of labels as One-Hot encoded Numpy array.  The possible values for labels are 0 to 9. The one-hot encoding function should return the same encoding for each value between each call to `one_hot_encode`.  Make sure to save the map of encodings outside the function.\n",
    "\n",
    "Hint: Don't reinvent the wheel."
   ]
  },
  {
   "cell_type": "code",
   "execution_count": 119,
   "metadata": {},
   "outputs": [
    {
     "name": "stdout",
     "output_type": "stream",
     "text": [
      "Tests Passed\n"
     ]
    }
   ],
   "source": [
    "def one_hot_encode(x):\n",
    "    \"\"\"\n",
    "    One hot encode a list of sample labels. Return a one-hot encoded vector for each label.\n",
    "    : x: List of sample Labels\n",
    "    : return: Numpy array of one-hot encoded labels\n",
    "    \"\"\"\n",
    "    # TODO: Implement Function\n",
    "    return helper.one_hot_encode(x)\n",
    "\n",
    "\n",
    "\"\"\"\n",
    "DON'T MODIFY ANYTHING IN THIS CELL THAT IS BELOW THIS LINE\n",
    "\"\"\"\n",
    "tests.test_one_hot_encode(one_hot_encode)"
   ]
  },
  {
   "cell_type": "markdown",
   "metadata": {},
   "source": [
    "### Randomize Data\n",
    "As you saw from exploring the data above, the order of the samples are randomized.  It doesn't hurt to randomize it again, but you don't need to for this dataset."
   ]
  },
  {
   "cell_type": "markdown",
   "metadata": {},
   "source": [
    "## Preprocess all the data and save it\n",
    "Running the code cell below will preprocess all the CIFAR-10 data and save it to file. The code below also uses 10% of the training data for validation."
   ]
  },
  {
   "cell_type": "code",
   "execution_count": 120,
   "metadata": {},
   "outputs": [],
   "source": [
    "\"\"\"\n",
    "DON'T MODIFY ANYTHING IN THIS CELL\n",
    "\"\"\"\n",
    "# Preprocess Training, Validation, and Testing Data\n",
    "helper.preprocess_and_save_data(cifar10_dataset_folder_path, normalize, one_hot_encode)"
   ]
  },
  {
   "cell_type": "markdown",
   "metadata": {},
   "source": [
    "# Check Point\n",
    "This is your first checkpoint.  If you ever decide to come back to this notebook or have to restart the notebook, you can start from here.  The preprocessed data has been saved to disk."
   ]
  },
  {
   "cell_type": "code",
   "execution_count": 121,
   "metadata": {
    "collapsed": true
   },
   "outputs": [],
   "source": [
    "\"\"\"\n",
    "DON'T MODIFY ANYTHING IN THIS CELL\n",
    "\"\"\"\n",
    "import pickle\n",
    "import problem_unittests as tests\n",
    "import helper\n",
    "\n",
    "# Load the Preprocessed Validation data\n",
    "valid_features, valid_labels = pickle.load(open('preprocess_validation.p', mode='rb'))"
   ]
  },
  {
   "cell_type": "markdown",
   "metadata": {},
   "source": [
    "## Build the network\n",
    "For the neural network, you'll build each layer into a function.  Most of the code you've seen has been outside of functions. To test your code more thoroughly, we require that you put each layer in a function.  This allows us to give you better feedback and test for simple mistakes using our unittests before you submit your project.\n",
    "\n",
    ">**Note:** If you're finding it hard to dedicate enough time for this course each week, we've provided a small shortcut to this part of the project. In the next couple of problems, you'll have the option to use classes from the [TensorFlow Layers](https://www.tensorflow.org/api_docs/python/tf/layers) or [TensorFlow Layers (contrib)](https://www.tensorflow.org/api_guides/python/contrib.layers) packages to build each layer, except the layers you build in the \"Convolutional and Max Pooling Layer\" section.  TF Layers is similar to Keras's and TFLearn's abstraction to layers, so it's easy to pickup.\n",
    "\n",
    ">However, if you would like to get the most out of this course, try to solve all the problems _without_ using anything from the TF Layers packages. You **can** still use classes from other packages that happen to have the same name as ones you find in TF Layers! For example, instead of using the TF Layers version of the `conv2d` class, [tf.layers.conv2d](https://www.tensorflow.org/api_docs/python/tf/layers/conv2d), you would want to use the TF Neural Network version of `conv2d`, [tf.nn.conv2d](https://www.tensorflow.org/api_docs/python/tf/nn/conv2d). \n",
    "\n",
    "Let's begin!\n",
    "\n",
    "### Input\n",
    "The neural network needs to read the image data, one-hot encoded labels, and dropout keep probability. Implement the following functions\n",
    "* Implement `neural_net_image_input`\n",
    " * Return a [TF Placeholder](https://www.tensorflow.org/api_docs/python/tf/placeholder)\n",
    " * Set the shape using `image_shape` with batch size set to `None`.\n",
    " * Name the TensorFlow placeholder \"x\" using the TensorFlow `name` parameter in the [TF Placeholder](https://www.tensorflow.org/api_docs/python/tf/placeholder).\n",
    "* Implement `neural_net_label_input`\n",
    " * Return a [TF Placeholder](https://www.tensorflow.org/api_docs/python/tf/placeholder)\n",
    " * Set the shape using `n_classes` with batch size set to `None`.\n",
    " * Name the TensorFlow placeholder \"y\" using the TensorFlow `name` parameter in the [TF Placeholder](https://www.tensorflow.org/api_docs/python/tf/placeholder).\n",
    "* Implement `neural_net_keep_prob_input`\n",
    " * Return a [TF Placeholder](https://www.tensorflow.org/api_docs/python/tf/placeholder) for dropout keep probability.\n",
    " * Name the TensorFlow placeholder \"keep_prob\" using the TensorFlow `name` parameter in the [TF Placeholder](https://www.tensorflow.org/api_docs/python/tf/placeholder).\n",
    "\n",
    "These names will be used at the end of the project to load your saved model.\n",
    "\n",
    "Note: `None` for shapes in TensorFlow allow for a dynamic size."
   ]
  },
  {
   "cell_type": "code",
   "execution_count": 122,
   "metadata": {},
   "outputs": [
    {
     "name": "stdout",
     "output_type": "stream",
     "text": [
      "Image Input Tests Passed.\n",
      "Label Input Tests Passed.\n",
      "Keep Prob Tests Passed.\n"
     ]
    }
   ],
   "source": [
    "import tensorflow as tf\n",
    "\n",
    "\n",
    "def neural_net_image_input(image_shape):\n",
    "    \"\"\"\n",
    "    Return a Tensor for a batch of image input\n",
    "    : image_shape: Shape of the images\n",
    "    : return: Tensor for image input.\n",
    "    \"\"\"\n",
    "    # TODO: Implement Function\n",
    "    image_shape = list(image_shape)\n",
    "    image_shape.insert(0, None)\n",
    "    return tf.placeholder(tf.float32, image_shape, name='x')\n",
    "\n",
    "\n",
    "def neural_net_label_input(n_classes):\n",
    "    \"\"\"\n",
    "    Return a Tensor for a batch of label input\n",
    "    : n_classes: Number of classes\n",
    "    : return: Tensor for label input.\n",
    "    \"\"\"\n",
    "    # TODO: Implement Function\n",
    "    return tf.placeholder(tf.float32, [None, n_classes], name='y')\n",
    "\n",
    "\n",
    "def neural_net_keep_prob_input():\n",
    "    \"\"\"\n",
    "    Return a Tensor for keep probability\n",
    "    : return: Tensor for keep probability.\n",
    "    \"\"\"\n",
    "    # TODO: Implement Function\n",
    "    return tf.placeholder(tf.float32, name='keep_prob')\n",
    "\n",
    "\n",
    "\"\"\"\n",
    "DON'T MODIFY ANYTHING IN THIS CELL THAT IS BELOW THIS LINE\n",
    "\"\"\"\n",
    "tf.reset_default_graph()\n",
    "tests.test_nn_image_inputs(neural_net_image_input)\n",
    "tests.test_nn_label_inputs(neural_net_label_input)\n",
    "tests.test_nn_keep_prob_inputs(neural_net_keep_prob_input)"
   ]
  },
  {
   "cell_type": "markdown",
   "metadata": {},
   "source": [
    "### Convolution and Max Pooling Layer\n",
    "Convolution layers have a lot of success with images. For this code cell, you should implement the function `conv2d_maxpool` to apply convolution then max pooling:\n",
    "* Create the weight and bias using `conv_ksize`, `conv_num_outputs` and the shape of `x_tensor`.\n",
    "* Apply a convolution to `x_tensor` using weight and `conv_strides`.\n",
    " * We recommend you use same padding, but you're welcome to use any padding.\n",
    "* Add bias\n",
    "* Add a nonlinear activation to the convolution.\n",
    "* Apply Max Pooling using `pool_ksize` and `pool_strides`.\n",
    " * We recommend you use same padding, but you're welcome to use any padding.\n",
    "\n",
    "**Note:** You **can't** use [TensorFlow Layers](https://www.tensorflow.org/api_docs/python/tf/layers) or [TensorFlow Layers (contrib)](https://www.tensorflow.org/api_guides/python/contrib.layers) for **this** layer, but you can still use TensorFlow's [Neural Network](https://www.tensorflow.org/api_docs/python/tf/nn) package. You may still use the shortcut option for all the **other** layers."
   ]
  },
  {
   "cell_type": "code",
   "execution_count": 123,
   "metadata": {},
   "outputs": [
    {
     "name": "stdout",
     "output_type": "stream",
     "text": [
      "Tests Passed\n"
     ]
    }
   ],
   "source": [
    "def conv2d_maxpool(x_tensor, conv_num_outputs, conv_ksize, conv_strides, pool_ksize, pool_strides):\n",
    "    \"\"\"\n",
    "    Apply convolution then max pooling to x_tensor\n",
    "    :param x_tensor: TensorFlow Tensor\n",
    "    :param conv_num_outputs: Number of outputs for the convolutional layer\n",
    "    :param conv_ksize: kernal size 2-D Tuple for the convolutional layer\n",
    "    :param conv_strides: Stride 2-D Tuple for convolution\n",
    "    :param pool_ksize: kernal size 2-D Tuple for pool\n",
    "    :param pool_strides: Stride 2-D Tuple for pool\n",
    "    : return: A tensor that represents convolution and max pooling of x_tensor\n",
    "    \"\"\"\n",
    "    # TODO: Implement Function\n",
    "    \n",
    "    # Weight and bias\n",
    "    weights = tf.Variable(tf.random_normal([conv_ksize[0], conv_ksize[1], x_tensor.get_shape().as_list()[-1], conv_num_outputs], stddev=1e-3))\n",
    "    bias = tf.Variable(tf.random_normal([conv_num_outputs]))\n",
    "    \n",
    "    # Apply Convolution\n",
    "    conv_layer = tf.add(tf.nn.conv2d(x_tensor, weights, [1, conv_strides[0], conv_strides[1], 1], 'SAME'), bias)\n",
    "    \n",
    "    # Apply activation function\n",
    "    activation = tf.nn.relu(conv_layer)\n",
    "    \n",
    "    # Apply Max Pooling\n",
    "    max_pooling = tf.nn.max_pool(\n",
    "        activation,\n",
    "        ksize=[1, pool_ksize[0], pool_ksize[1], 1],\n",
    "        strides=[1, pool_strides[0], pool_strides[0], 1],\n",
    "        padding='SAME')\n",
    "    return max_pooling\n",
    "\n",
    "\n",
    "\"\"\"\n",
    "DON'T MODIFY ANYTHING IN THIS CELL THAT IS BELOW THIS LINE\n",
    "\"\"\"\n",
    "tests.test_con_pool(conv2d_maxpool)"
   ]
  },
  {
   "cell_type": "markdown",
   "metadata": {},
   "source": [
    "### Flatten Layer\n",
    "Implement the `flatten` function to change the dimension of `x_tensor` from a 4-D tensor to a 2-D tensor.  The output should be the shape (*Batch Size*, *Flattened Image Size*). Shortcut option: you can use classes from the [TensorFlow Layers](https://www.tensorflow.org/api_docs/python/tf/layers) or [TensorFlow Layers (contrib)](https://www.tensorflow.org/api_guides/python/contrib.layers) packages for this layer. For more of a challenge, only use other TensorFlow packages."
   ]
  },
  {
   "cell_type": "code",
   "execution_count": 124,
   "metadata": {},
   "outputs": [
    {
     "name": "stdout",
     "output_type": "stream",
     "text": [
      "Tests Passed\n"
     ]
    }
   ],
   "source": [
    "def flatten(x_tensor):\n",
    "    \"\"\"\n",
    "    Flatten x_tensor to (Batch Size, Flattened Image Size)\n",
    "    : x_tensor: A tensor of size (Batch Size, ...), where ... are the image dimensions.\n",
    "    : return: A tensor of size (Batch Size, Flattened Image Size).\n",
    "    \"\"\"\n",
    "    # TODO: Implement Function\n",
    "    x_shape = x_tensor.get_shape().as_list()\n",
    "    return tf.reshape(x_tensor, [-1, x_shape[1]*x_shape[2]*x_shape[3]])\n",
    "\n",
    "\n",
    "\"\"\"\n",
    "DON'T MODIFY ANYTHING IN THIS CELL THAT IS BELOW THIS LINE\n",
    "\"\"\"\n",
    "tests.test_flatten(flatten)"
   ]
  },
  {
   "cell_type": "markdown",
   "metadata": {},
   "source": [
    "### Fully-Connected Layer\n",
    "Implement the `fully_conn` function to apply a fully connected layer to `x_tensor` with the shape (*Batch Size*, *num_outputs*). Shortcut option: you can use classes from the [TensorFlow Layers](https://www.tensorflow.org/api_docs/python/tf/layers) or [TensorFlow Layers (contrib)](https://www.tensorflow.org/api_guides/python/contrib.layers) packages for this layer. For more of a challenge, only use other TensorFlow packages."
   ]
  },
  {
   "cell_type": "code",
   "execution_count": 125,
   "metadata": {},
   "outputs": [
    {
     "name": "stdout",
     "output_type": "stream",
     "text": [
      "Tests Passed\n"
     ]
    }
   ],
   "source": [
    "def fully_conn(x_tensor, num_outputs):\n",
    "    \"\"\"\n",
    "    Apply a fully connected layer to x_tensor using weight and bias\n",
    "    : x_tensor: A 2-D tensor where the first dimension is batch size.\n",
    "    : num_outputs: The number of output that the new tensor should be.\n",
    "    : return: A 2-D tensor where the second dimension is num_outputs.\n",
    "    \"\"\"\n",
    "    nn_layer = tf.contrib.layers.fully_connected(x_tensor, num_outputs = num_outputs)\n",
    "    return tf.nn.relu(nn_layer)\n",
    "\n",
    "\n",
    "\"\"\"\n",
    "DON'T MODIFY ANYTHING IN THIS CELL THAT IS BELOW THIS LINE\n",
    "\"\"\"\n",
    "tests.test_fully_conn(fully_conn)"
   ]
  },
  {
   "cell_type": "markdown",
   "metadata": {},
   "source": [
    "### Output Layer\n",
    "Implement the `output` function to apply a fully connected layer to `x_tensor` with the shape (*Batch Size*, *num_outputs*). Shortcut option: you can use classes from the [TensorFlow Layers](https://www.tensorflow.org/api_docs/python/tf/layers) or [TensorFlow Layers (contrib)](https://www.tensorflow.org/api_guides/python/contrib.layers) packages for this layer. For more of a challenge, only use other TensorFlow packages.\n",
    "\n",
    "**Note:** Activation, softmax, or cross entropy should **not** be applied to this."
   ]
  },
  {
   "cell_type": "code",
   "execution_count": 126,
   "metadata": {},
   "outputs": [
    {
     "name": "stdout",
     "output_type": "stream",
     "text": [
      "Tests Passed\n"
     ]
    }
   ],
   "source": [
    "def output(x_tensor, num_outputs):\n",
    "    \"\"\"\n",
    "    Apply a output layer to x_tensor using weight and bias\n",
    "    : x_tensor: A 2-D tensor where the first dimension is batch size.\n",
    "    : num_outputs: The number of output that the new tensor should be.\n",
    "    : return: A 2-D tensor where the second dimension is num_outputs.\n",
    "    \"\"\"\n",
    "    # TODO: Implement Function\n",
    "    n_input = x_tensor.get_shape().as_list()[1]\n",
    "    weight = tf.Variable(tf.random_normal([n_input, num_outputs],stddev = 1e-3))\n",
    "    bias = tf.Variable(tf.zeros([num_outputs]))\n",
    "    \n",
    "    nn_layer = tf.add(tf.matmul(x_tensor, weight), bias)\n",
    "    return nn_layer\n",
    "\n",
    "\"\"\"\n",
    "DON'T MODIFY ANYTHING IN THIS CELL THAT IS BELOW THIS LINE\n",
    "\"\"\"\n",
    "tests.test_output(output)"
   ]
  },
  {
   "cell_type": "markdown",
   "metadata": {},
   "source": [
    "### Create Convolutional Model\n",
    "Implement the function `conv_net` to create a convolutional neural network model. The function takes in a batch of images, `x`, and outputs logits.  Use the layers you created above to create this model:\n",
    "\n",
    "* Apply 1, 2, or 3 Convolution and Max Pool layers\n",
    "* Apply a Flatten Layer\n",
    "* Apply 1, 2, or 3 Fully Connected Layers\n",
    "* Apply an Output Layer\n",
    "* Return the output\n",
    "* Apply [TensorFlow's Dropout](https://www.tensorflow.org/api_docs/python/tf/nn/dropout) to one or more layers in the model using `keep_prob`. "
   ]
  },
  {
   "cell_type": "code",
   "execution_count": 133,
   "metadata": {},
   "outputs": [
    {
     "name": "stdout",
     "output_type": "stream",
     "text": [
      "Neural Network Built!\n"
     ]
    }
   ],
   "source": [
    "def conv_net(x, keep_prob):\n",
    "    \"\"\"\n",
    "    Create a convolutional neural network model\n",
    "    : x: Placeholder tensor that holds image data.\n",
    "    : keep_prob: Placeholder tensor that hold dropout keep probability.\n",
    "    : return: Tensor that represents logits\n",
    "    \"\"\"\n",
    "    # TODO: Apply 1, 2, or 3 Convolution and Max Pool layers\n",
    "    #    Play around with different number of outputs, kernel size and stride\n",
    "    # Function Definition from Above:\n",
    "    #    conv2d_maxpool(x_tensor, conv_num_outputs, conv_ksize, conv_strides, pool_ksize, pool_strides)\n",
    "\n",
    "    conv_num_outputs = [32, 64, 128]\n",
    "    conv_ksize = (5, 5)\n",
    "    conv_strides = (1, 1)\n",
    "    pool_ksize = (2, 2)\n",
    "    pool_strides = (2, 2)\n",
    "\n",
    "    x_conv = conv2d_maxpool(x, conv_num_outputs[0], conv_ksize, conv_strides, pool_ksize, pool_strides)\n",
    "    x_conv = conv2d_maxpool(x_conv, conv_num_outputs[1], conv_ksize, conv_strides, pool_ksize, pool_strides)\n",
    "    x_conv = conv2d_maxpool(x_conv, conv_num_outputs[2], conv_ksize, conv_strides, pool_ksize, pool_strides)\n",
    "    \n",
    "\n",
    "    # TODO: Apply a Flatten Layer\n",
    "    # Function Definition from Above:\n",
    "    flatten_layer = flatten(x_conv)\n",
    "    \n",
    "\n",
    "    # TODO: Apply 1, 2, or 3 Fully Connected Layers\n",
    "    #    Play around with different number of outputs\n",
    "    # Function Definition from Above:\n",
    "    num_outputs = [4096,2048,1024]\n",
    "    num_of_classes = 10\n",
    "    \n",
    "    fc_layer_1 = fully_conn(flatten_layer, num_outputs[0])\n",
    "    fc_layer_1 = tf.nn.dropout(fc_layer_1, keep_prob)\n",
    "    fc_layer_2 = fully_conn(fc_layer_1, num_outputs[1])\n",
    "    fc_layer_3 = tf.nn.dropout(fc_layer_2, keep_prob)\n",
    "    fc_layer_3 = fully_conn(fc_layer_3, num_outputs[1])\n",
    "    \n",
    "    # TODO: Apply an Output Layer\n",
    "    #    Set this to the number of classes\n",
    "    output_layer = output(fc_layer_3, num_of_classes)\n",
    "    \n",
    "    \n",
    "    # TODO: return output\n",
    "    return output_layer\n",
    "\n",
    "\n",
    "\"\"\"\n",
    "DON'T MODIFY ANYTHING IN THIS CELL THAT IS BELOW THIS LINE\n",
    "\"\"\"\n",
    "\n",
    "##############################\n",
    "## Build the Neural Network ##\n",
    "##############################\n",
    "\n",
    "# Remove previous weights, bias, inputs, etc..\n",
    "tf.reset_default_graph()\n",
    "\n",
    "# Inputs\n",
    "x = neural_net_image_input((32, 32, 3))\n",
    "y = neural_net_label_input(10)\n",
    "keep_prob = neural_net_keep_prob_input()\n",
    "\n",
    "# Model\n",
    "logits = conv_net(x, keep_prob)\n",
    "\n",
    "# Name logits Tensor, so that is can be loaded from disk after training\n",
    "logits = tf.identity(logits, name='logits')\n",
    "\n",
    "# Loss and Optimizer\n",
    "cost = tf.reduce_mean(tf.nn.softmax_cross_entropy_with_logits(logits=logits, labels=y))\n",
    "optimizer = tf.train.AdamOptimizer().minimize(cost)\n",
    "\n",
    "# Accuracy\n",
    "correct_pred = tf.equal(tf.argmax(logits, 1), tf.argmax(y, 1))\n",
    "accuracy = tf.reduce_mean(tf.cast(correct_pred, tf.float32), name='accuracy')\n",
    "\n",
    "tests.test_conv_net(conv_net)"
   ]
  },
  {
   "cell_type": "code",
   "execution_count": 134,
   "metadata": {},
   "outputs": [
    {
     "name": "stdout",
     "output_type": "stream",
     "text": [
      "Tests Passed\n"
     ]
    }
   ],
   "source": [
    "def train_neural_network(session, optimizer, keep_probability, feature_batch, label_batch):\n",
    "    \"\"\"\n",
    "    Optimize the session on a batch of images and labels\n",
    "    : session: Current TensorFlow session\n",
    "    : optimizer: TensorFlow optimizer function\n",
    "    : keep_probability: keep probability\n",
    "    : feature_batch: Batch of Numpy image data\n",
    "    : label_batch: Batch of Numpy label data\n",
    "    \"\"\"\n",
    "    # TODO: Implement Function\n",
    "    session.run(optimizer, feed_dict={\n",
    "                x: feature_batch,\n",
    "                y: label_batch,\n",
    "                keep_prob: keep_probability})\n",
    "\n",
    "\n",
    "\"\"\"\n",
    "DON'T MODIFY ANYTHING IN THIS CELL THAT IS BELOW THIS LINE\n",
    "\"\"\"\n",
    "tests.test_train_nn(train_neural_network)"
   ]
  },
  {
   "cell_type": "markdown",
   "metadata": {},
   "source": [
    "## Train the Neural Network\n",
    "### Single Optimization\n",
    "Implement the function `train_neural_network` to do a single optimization.  The optimization should use `optimizer` to optimize in `session` with a `feed_dict` of the following:\n",
    "* `x` for image input\n",
    "* `y` for labels\n",
    "* `keep_prob` for keep probability for dropout\n",
    "\n",
    "This function will be called for each batch, so `tf.global_variables_initializer()` has already been called.\n",
    "\n",
    "Note: Nothing needs to be returned. This function is only optimizing the neural network."
   ]
  },
  {
   "cell_type": "markdown",
   "metadata": {},
   "source": [
    "### Show Stats\n",
    "Implement the function `print_stats` to print loss and validation accuracy.  Use the global variables `valid_features` and `valid_labels` to calculate validation accuracy.  Use a keep probability of `1.0` to calculate the loss and validation accuracy."
   ]
  },
  {
   "cell_type": "code",
   "execution_count": 135,
   "metadata": {},
   "outputs": [],
   "source": [
    "def print_stats(session, feature_batch, label_batch, cost, accuracy):\n",
    "    \"\"\"\n",
    "    Print information about loss and validation accuracy\n",
    "    : session: Current TensorFlow session\n",
    "    : feature_batch: Batch of Numpy image data\n",
    "    : label_batch: Batch of Numpy label data\n",
    "    : cost: TensorFlow cost function\n",
    "    : accuracy: TensorFlow accuracy function\n",
    "    \"\"\"\n",
    "    # TODO: Implement Function\n",
    "    loss = session.run(cost, feed_dict={\n",
    "        x: feature_batch,\n",
    "        y: label_batch,\n",
    "        keep_prob: 1.})\n",
    "    \n",
    "    valid_acc = session.run(accuracy, feed_dict={\n",
    "        x: valid_features[:256],\n",
    "        y: valid_labels[:256],\n",
    "        keep_prob: 1.})\n",
    "\n",
    "    print('Loss: {:>10.4f} Validation Accuracy: {:.6f}'.format(\n",
    "        loss,\n",
    "        valid_acc))"
   ]
  },
  {
   "cell_type": "markdown",
   "metadata": {},
   "source": [
    "### Hyperparameters\n",
    "Tune the following parameters:\n",
    "* Set `epochs` to the number of iterations until the network stops learning or start overfitting\n",
    "* Set `batch_size` to the highest number that your machine has memory for.  Most people set them to common sizes of memory:\n",
    " * 64\n",
    " * 128\n",
    " * 256\n",
    " * ...\n",
    "* Set `keep_probability` to the probability of keeping a node using dropout"
   ]
  },
  {
   "cell_type": "code",
   "execution_count": 136,
   "metadata": {
    "collapsed": true
   },
   "outputs": [],
   "source": [
    "# TODO: Tune Parameters\n",
    "epochs = 50\n",
    "batch_size = 64\n",
    "keep_probability = 0.75"
   ]
  },
  {
   "cell_type": "markdown",
   "metadata": {},
   "source": [
    "### Train on a Single CIFAR-10 Batch\n",
    "Instead of training the neural network on all the CIFAR-10 batches of data, let's use a single batch. This should save time while you iterate on the model to get a better accuracy.  Once the final validation accuracy is 50% or greater, run the model on all the data in the next section."
   ]
  },
  {
   "cell_type": "code",
   "execution_count": 137,
   "metadata": {},
   "outputs": [
    {
     "name": "stdout",
     "output_type": "stream",
     "text": [
      "Checking the Training on a Single Batch...\n",
      "Epoch  1, CIFAR-10 Batch 1:  Loss:     2.2377 Validation Accuracy: 0.167969\n",
      "Epoch  2, CIFAR-10 Batch 1:  Loss:     2.2277 Validation Accuracy: 0.226562\n",
      "Epoch  3, CIFAR-10 Batch 1:  Loss:     2.1934 Validation Accuracy: 0.246094\n",
      "Epoch  4, CIFAR-10 Batch 1:  Loss:     2.2252 Validation Accuracy: 0.230469\n",
      "Epoch  5, CIFAR-10 Batch 1:  Loss:     2.0605 Validation Accuracy: 0.253906\n",
      "Epoch  6, CIFAR-10 Batch 1:  Loss:     1.9157 Validation Accuracy: 0.246094\n",
      "Epoch  7, CIFAR-10 Batch 1:  Loss:     1.8993 Validation Accuracy: 0.292969\n",
      "Epoch  8, CIFAR-10 Batch 1:  Loss:     1.8158 Validation Accuracy: 0.359375\n",
      "Epoch  9, CIFAR-10 Batch 1:  Loss:     1.7519 Validation Accuracy: 0.312500\n",
      "Epoch 10, CIFAR-10 Batch 1:  Loss:     1.7342 Validation Accuracy: 0.316406\n",
      "Epoch 11, CIFAR-10 Batch 1:  Loss:     1.5777 Validation Accuracy: 0.375000\n",
      "Epoch 12, CIFAR-10 Batch 1:  Loss:     1.5644 Validation Accuracy: 0.371094\n",
      "Epoch 13, CIFAR-10 Batch 1:  Loss:     1.5089 Validation Accuracy: 0.386719\n",
      "Epoch 14, CIFAR-10 Batch 1:  Loss:     1.4533 Validation Accuracy: 0.367188\n",
      "Epoch 15, CIFAR-10 Batch 1:  Loss:     1.4333 Validation Accuracy: 0.363281\n",
      "Epoch 16, CIFAR-10 Batch 1:  Loss:     1.3332 Validation Accuracy: 0.351562\n",
      "Epoch 17, CIFAR-10 Batch 1:  Loss:     1.3514 Validation Accuracy: 0.347656\n",
      "Epoch 18, CIFAR-10 Batch 1:  Loss:     1.2534 Validation Accuracy: 0.367188\n",
      "Epoch 19, CIFAR-10 Batch 1:  Loss:     1.2610 Validation Accuracy: 0.351562\n",
      "Epoch 20, CIFAR-10 Batch 1:  Loss:     1.1681 Validation Accuracy: 0.332031\n",
      "Epoch 21, CIFAR-10 Batch 1:  Loss:     1.1283 Validation Accuracy: 0.347656\n",
      "Epoch 22, CIFAR-10 Batch 1:  Loss:     1.0095 Validation Accuracy: 0.347656\n",
      "Epoch 23, CIFAR-10 Batch 1:  Loss:     1.1311 Validation Accuracy: 0.363281\n",
      "Epoch 24, CIFAR-10 Batch 1:  Loss:     1.2500 Validation Accuracy: 0.375000\n",
      "Epoch 25, CIFAR-10 Batch 1:  Loss:     1.0586 Validation Accuracy: 0.363281\n",
      "Epoch 26, CIFAR-10 Batch 1:  Loss:     1.0043 Validation Accuracy: 0.375000\n",
      "Epoch 27, CIFAR-10 Batch 1:  Loss:     0.9309 Validation Accuracy: 0.390625\n",
      "Epoch 28, CIFAR-10 Batch 1:  Loss:     0.8891 Validation Accuracy: 0.339844\n",
      "Epoch 29, CIFAR-10 Batch 1:  Loss:     0.7871 Validation Accuracy: 0.347656\n",
      "Epoch 30, CIFAR-10 Batch 1:  Loss:     0.7190 Validation Accuracy: 0.351562\n",
      "Epoch 31, CIFAR-10 Batch 1:  Loss:     0.7022 Validation Accuracy: 0.332031\n",
      "Epoch 32, CIFAR-10 Batch 1:  Loss:     0.6762 Validation Accuracy: 0.335938\n",
      "Epoch 33, CIFAR-10 Batch 1:  Loss:     0.6146 Validation Accuracy: 0.343750\n",
      "Epoch 34, CIFAR-10 Batch 1:  Loss:     0.7309 Validation Accuracy: 0.363281\n",
      "Epoch 35, CIFAR-10 Batch 1:  Loss:     0.5157 Validation Accuracy: 0.347656\n",
      "Epoch 36, CIFAR-10 Batch 1:  Loss:     0.3446 Validation Accuracy: 0.351562\n",
      "Epoch 37, CIFAR-10 Batch 1:  Loss:     0.3439 Validation Accuracy: 0.339844\n",
      "Epoch 38, CIFAR-10 Batch 1:  Loss:     0.3097 Validation Accuracy: 0.390625\n",
      "Epoch 39, CIFAR-10 Batch 1:  Loss:     0.3463 Validation Accuracy: 0.347656\n",
      "Epoch 40, CIFAR-10 Batch 1:  Loss:     0.2436 Validation Accuracy: 0.347656\n",
      "Epoch 41, CIFAR-10 Batch 1:  Loss:     0.2982 Validation Accuracy: 0.375000\n",
      "Epoch 42, CIFAR-10 Batch 1:  Loss:     0.1560 Validation Accuracy: 0.355469\n",
      "Epoch 43, CIFAR-10 Batch 1:  Loss:     0.2347 Validation Accuracy: 0.375000\n",
      "Epoch 44, CIFAR-10 Batch 1:  Loss:     0.1996 Validation Accuracy: 0.367188\n",
      "Epoch 45, CIFAR-10 Batch 1:  Loss:     0.1002 Validation Accuracy: 0.347656\n",
      "Epoch 46, CIFAR-10 Batch 1:  Loss:     0.1610 Validation Accuracy: 0.402344\n",
      "Epoch 47, CIFAR-10 Batch 1:  Loss:     0.1369 Validation Accuracy: 0.382812\n",
      "Epoch 48, CIFAR-10 Batch 1:  Loss:     0.0892 Validation Accuracy: 0.402344\n",
      "Epoch 49, CIFAR-10 Batch 1:  Loss:     0.1058 Validation Accuracy: 0.371094\n",
      "Epoch 50, CIFAR-10 Batch 1:  Loss:     0.1354 Validation Accuracy: 0.378906\n"
     ]
    }
   ],
   "source": [
    "\"\"\"\n",
    "DON'T MODIFY ANYTHING IN THIS CELL\n",
    "\"\"\"\n",
    "print('Checking the Training on a Single Batch...')\n",
    "with tf.Session() as sess:\n",
    "    # Initializing the variables\n",
    "    sess.run(tf.global_variables_initializer())\n",
    "    \n",
    "    # Training cycle\n",
    "    for epoch in range(epochs):\n",
    "        batch_i = 1\n",
    "        for batch_features, batch_labels in helper.load_preprocess_training_batch(batch_i, batch_size):\n",
    "            train_neural_network(sess, optimizer, keep_probability, batch_features, batch_labels)\n",
    "        print('Epoch {:>2}, CIFAR-10 Batch {}:  '.format(epoch + 1, batch_i), end='')\n",
    "        print_stats(sess, batch_features, batch_labels, cost, accuracy)"
   ]
  },
  {
   "cell_type": "markdown",
   "metadata": {},
   "source": [
    "### Fully Train the Model\n",
    "Now that you got a good accuracy with a single CIFAR-10 batch, try it with all five batches."
   ]
  },
  {
   "cell_type": "code",
   "execution_count": 138,
   "metadata": {},
   "outputs": [
    {
     "name": "stdout",
     "output_type": "stream",
     "text": [
      "Training...\n",
      "Epoch  1, CIFAR-10 Batch 1:  Loss:     2.1763 Validation Accuracy: 0.222656\n",
      "Epoch  1, CIFAR-10 Batch 2:  Loss:     2.1380 Validation Accuracy: 0.226562\n",
      "Epoch  1, CIFAR-10 Batch 3:  Loss:     1.8444 Validation Accuracy: 0.230469\n",
      "Epoch  1, CIFAR-10 Batch 4:  Loss:     1.8213 Validation Accuracy: 0.253906\n",
      "Epoch  1, CIFAR-10 Batch 5:  Loss:     1.8152 Validation Accuracy: 0.355469\n",
      "Epoch  2, CIFAR-10 Batch 1:  Loss:     2.0160 Validation Accuracy: 0.304688\n",
      "Epoch  2, CIFAR-10 Batch 2:  Loss:     1.6679 Validation Accuracy: 0.355469\n",
      "Epoch  2, CIFAR-10 Batch 3:  Loss:     1.4278 Validation Accuracy: 0.371094\n",
      "Epoch  2, CIFAR-10 Batch 4:  Loss:     1.5589 Validation Accuracy: 0.375000\n",
      "Epoch  2, CIFAR-10 Batch 5:  Loss:     1.7222 Validation Accuracy: 0.402344\n",
      "Epoch  3, CIFAR-10 Batch 1:  Loss:     1.7394 Validation Accuracy: 0.406250\n",
      "Epoch  3, CIFAR-10 Batch 2:  Loss:     1.5943 Validation Accuracy: 0.421875\n",
      "Epoch  3, CIFAR-10 Batch 3:  Loss:     1.2872 Validation Accuracy: 0.449219\n",
      "Epoch  3, CIFAR-10 Batch 4:  Loss:     1.4048 Validation Accuracy: 0.398438\n",
      "Epoch  3, CIFAR-10 Batch 5:  Loss:     1.5717 Validation Accuracy: 0.410156\n",
      "Epoch  4, CIFAR-10 Batch 1:  Loss:     1.5415 Validation Accuracy: 0.425781\n",
      "Epoch  4, CIFAR-10 Batch 2:  Loss:     1.3415 Validation Accuracy: 0.433594\n",
      "Epoch  4, CIFAR-10 Batch 3:  Loss:     1.2477 Validation Accuracy: 0.437500\n",
      "Epoch  4, CIFAR-10 Batch 4:  Loss:     1.2531 Validation Accuracy: 0.449219\n",
      "Epoch  4, CIFAR-10 Batch 5:  Loss:     1.4258 Validation Accuracy: 0.445312\n",
      "Epoch  5, CIFAR-10 Batch 1:  Loss:     1.4813 Validation Accuracy: 0.433594\n",
      "Epoch  5, CIFAR-10 Batch 2:  Loss:     1.1575 Validation Accuracy: 0.445312\n",
      "Epoch  5, CIFAR-10 Batch 3:  Loss:     1.0528 Validation Accuracy: 0.488281\n",
      "Epoch  5, CIFAR-10 Batch 4:  Loss:     1.1355 Validation Accuracy: 0.464844\n",
      "Epoch  5, CIFAR-10 Batch 5:  Loss:     1.3312 Validation Accuracy: 0.425781\n",
      "Epoch  6, CIFAR-10 Batch 1:  Loss:     1.4626 Validation Accuracy: 0.472656\n",
      "Epoch  6, CIFAR-10 Batch 2:  Loss:     0.9740 Validation Accuracy: 0.449219\n",
      "Epoch  6, CIFAR-10 Batch 3:  Loss:     0.9670 Validation Accuracy: 0.476562\n",
      "Epoch  6, CIFAR-10 Batch 4:  Loss:     1.0420 Validation Accuracy: 0.488281\n",
      "Epoch  6, CIFAR-10 Batch 5:  Loss:     1.1967 Validation Accuracy: 0.437500\n",
      "Epoch  7, CIFAR-10 Batch 1:  Loss:     1.3013 Validation Accuracy: 0.500000\n",
      "Epoch  7, CIFAR-10 Batch 2:  Loss:     0.8725 Validation Accuracy: 0.460938\n",
      "Epoch  7, CIFAR-10 Batch 3:  Loss:     0.8488 Validation Accuracy: 0.476562\n",
      "Epoch  7, CIFAR-10 Batch 4:  Loss:     0.9228 Validation Accuracy: 0.488281\n",
      "Epoch  7, CIFAR-10 Batch 5:  Loss:     1.1348 Validation Accuracy: 0.476562\n",
      "Epoch  8, CIFAR-10 Batch 1:  Loss:     1.2072 Validation Accuracy: 0.496094\n",
      "Epoch  8, CIFAR-10 Batch 2:  Loss:     0.8118 Validation Accuracy: 0.476562\n",
      "Epoch  8, CIFAR-10 Batch 3:  Loss:     0.7736 Validation Accuracy: 0.527344\n",
      "Epoch  8, CIFAR-10 Batch 4:  Loss:     0.9015 Validation Accuracy: 0.500000\n",
      "Epoch  8, CIFAR-10 Batch 5:  Loss:     1.0660 Validation Accuracy: 0.476562\n",
      "Epoch  9, CIFAR-10 Batch 1:  Loss:     1.0321 Validation Accuracy: 0.476562\n",
      "Epoch  9, CIFAR-10 Batch 2:  Loss:     0.7401 Validation Accuracy: 0.492188\n",
      "Epoch  9, CIFAR-10 Batch 3:  Loss:     0.7404 Validation Accuracy: 0.523438\n",
      "Epoch  9, CIFAR-10 Batch 4:  Loss:     0.7830 Validation Accuracy: 0.507812\n",
      "Epoch  9, CIFAR-10 Batch 5:  Loss:     0.7964 Validation Accuracy: 0.496094\n",
      "Epoch 10, CIFAR-10 Batch 1:  Loss:     0.8983 Validation Accuracy: 0.507812\n",
      "Epoch 10, CIFAR-10 Batch 2:  Loss:     0.6481 Validation Accuracy: 0.519531\n",
      "Epoch 10, CIFAR-10 Batch 3:  Loss:     0.6774 Validation Accuracy: 0.507812\n",
      "Epoch 10, CIFAR-10 Batch 4:  Loss:     0.6737 Validation Accuracy: 0.492188\n",
      "Epoch 10, CIFAR-10 Batch 5:  Loss:     0.6947 Validation Accuracy: 0.496094\n",
      "Epoch 11, CIFAR-10 Batch 1:  Loss:     0.7610 Validation Accuracy: 0.507812\n",
      "Epoch 11, CIFAR-10 Batch 2:  Loss:     0.4973 Validation Accuracy: 0.480469\n",
      "Epoch 11, CIFAR-10 Batch 3:  Loss:     0.5534 Validation Accuracy: 0.488281\n",
      "Epoch 11, CIFAR-10 Batch 4:  Loss:     0.6465 Validation Accuracy: 0.468750\n",
      "Epoch 11, CIFAR-10 Batch 5:  Loss:     0.6948 Validation Accuracy: 0.515625\n",
      "Epoch 12, CIFAR-10 Batch 1:  Loss:     0.6671 Validation Accuracy: 0.484375\n",
      "Epoch 12, CIFAR-10 Batch 2:  Loss:     0.4965 Validation Accuracy: 0.511719\n",
      "Epoch 12, CIFAR-10 Batch 3:  Loss:     0.5540 Validation Accuracy: 0.500000\n",
      "Epoch 12, CIFAR-10 Batch 4:  Loss:     0.5930 Validation Accuracy: 0.496094\n",
      "Epoch 12, CIFAR-10 Batch 5:  Loss:     0.5581 Validation Accuracy: 0.496094\n",
      "Epoch 13, CIFAR-10 Batch 1:  Loss:     0.6006 Validation Accuracy: 0.515625\n",
      "Epoch 13, CIFAR-10 Batch 2:  Loss:     0.5030 Validation Accuracy: 0.507812\n",
      "Epoch 13, CIFAR-10 Batch 3:  Loss:     0.5737 Validation Accuracy: 0.496094\n",
      "Epoch 13, CIFAR-10 Batch 4:  Loss:     0.4547 Validation Accuracy: 0.550781\n",
      "Epoch 13, CIFAR-10 Batch 5:  Loss:     0.4807 Validation Accuracy: 0.500000\n",
      "Epoch 14, CIFAR-10 Batch 1:  Loss:     0.5090 Validation Accuracy: 0.484375\n",
      "Epoch 14, CIFAR-10 Batch 2:  Loss:     0.3852 Validation Accuracy: 0.527344\n",
      "Epoch 14, CIFAR-10 Batch 3:  Loss:     0.4859 Validation Accuracy: 0.542969\n",
      "Epoch 14, CIFAR-10 Batch 4:  Loss:     0.4075 Validation Accuracy: 0.542969\n",
      "Epoch 14, CIFAR-10 Batch 5:  Loss:     0.3800 Validation Accuracy: 0.535156\n",
      "Epoch 15, CIFAR-10 Batch 1:  Loss:     0.7995 Validation Accuracy: 0.503906\n",
      "Epoch 15, CIFAR-10 Batch 2:  Loss:     0.5073 Validation Accuracy: 0.558594\n",
      "Epoch 15, CIFAR-10 Batch 3:  Loss:     0.3372 Validation Accuracy: 0.566406\n",
      "Epoch 15, CIFAR-10 Batch 4:  Loss:     0.3156 Validation Accuracy: 0.546875\n",
      "Epoch 15, CIFAR-10 Batch 5:  Loss:     0.4631 Validation Accuracy: 0.519531\n",
      "Epoch 16, CIFAR-10 Batch 1:  Loss:     0.3940 Validation Accuracy: 0.503906\n",
      "Epoch 16, CIFAR-10 Batch 2:  Loss:     0.4131 Validation Accuracy: 0.539062\n",
      "Epoch 16, CIFAR-10 Batch 3:  Loss:     0.3436 Validation Accuracy: 0.507812\n",
      "Epoch 16, CIFAR-10 Batch 4:  Loss:     0.2511 Validation Accuracy: 0.531250\n",
      "Epoch 16, CIFAR-10 Batch 5:  Loss:     0.3662 Validation Accuracy: 0.527344\n",
      "Epoch 17, CIFAR-10 Batch 1:  Loss:     0.3666 Validation Accuracy: 0.500000\n",
      "Epoch 17, CIFAR-10 Batch 2:  Loss:     0.2912 Validation Accuracy: 0.542969\n",
      "Epoch 17, CIFAR-10 Batch 3:  Loss:     0.4025 Validation Accuracy: 0.511719\n",
      "Epoch 17, CIFAR-10 Batch 4:  Loss:     0.2908 Validation Accuracy: 0.539062\n",
      "Epoch 17, CIFAR-10 Batch 5:  Loss:     0.3959 Validation Accuracy: 0.492188\n",
      "Epoch 18, CIFAR-10 Batch 1:  Loss:     0.3265 Validation Accuracy: 0.515625\n",
      "Epoch 18, CIFAR-10 Batch 2:  Loss:     0.3513 Validation Accuracy: 0.503906\n",
      "Epoch 18, CIFAR-10 Batch 3:  Loss:     0.3290 Validation Accuracy: 0.546875\n",
      "Epoch 18, CIFAR-10 Batch 4:  Loss:     0.2732 Validation Accuracy: 0.546875\n",
      "Epoch 18, CIFAR-10 Batch 5:  Loss:     0.2963 Validation Accuracy: 0.527344\n",
      "Epoch 19, CIFAR-10 Batch 1:  Loss:     0.2931 Validation Accuracy: 0.515625\n",
      "Epoch 19, CIFAR-10 Batch 2:  Loss:     0.2817 Validation Accuracy: 0.519531\n",
      "Epoch 19, CIFAR-10 Batch 3:  Loss:     0.2649 Validation Accuracy: 0.578125\n",
      "Epoch 19, CIFAR-10 Batch 4:  Loss:     0.2662 Validation Accuracy: 0.531250\n",
      "Epoch 19, CIFAR-10 Batch 5:  Loss:     0.4325 Validation Accuracy: 0.503906\n",
      "Epoch 20, CIFAR-10 Batch 1:  Loss:     0.3051 Validation Accuracy: 0.531250\n",
      "Epoch 20, CIFAR-10 Batch 2:  Loss:     0.3037 Validation Accuracy: 0.492188\n",
      "Epoch 20, CIFAR-10 Batch 3:  Loss:     0.2327 Validation Accuracy: 0.550781\n",
      "Epoch 20, CIFAR-10 Batch 4:  Loss:     0.2024 Validation Accuracy: 0.531250\n",
      "Epoch 20, CIFAR-10 Batch 5:  Loss:     0.3154 Validation Accuracy: 0.531250\n",
      "Epoch 21, CIFAR-10 Batch 1:  Loss:     0.2222 Validation Accuracy: 0.542969\n",
      "Epoch 21, CIFAR-10 Batch 2:  Loss:     0.2969 Validation Accuracy: 0.492188\n",
      "Epoch 21, CIFAR-10 Batch 3:  Loss:     0.2421 Validation Accuracy: 0.566406\n",
      "Epoch 21, CIFAR-10 Batch 4:  Loss:     0.1941 Validation Accuracy: 0.523438\n",
      "Epoch 21, CIFAR-10 Batch 5:  Loss:     0.3067 Validation Accuracy: 0.523438\n",
      "Epoch 22, CIFAR-10 Batch 1:  Loss:     0.1480 Validation Accuracy: 0.546875\n",
      "Epoch 22, CIFAR-10 Batch 2:  Loss:     0.2713 Validation Accuracy: 0.507812\n",
      "Epoch 22, CIFAR-10 Batch 3:  Loss:     0.2295 Validation Accuracy: 0.550781\n"
     ]
    },
    {
     "name": "stdout",
     "output_type": "stream",
     "text": [
      "Epoch 22, CIFAR-10 Batch 4:  Loss:     0.2376 Validation Accuracy: 0.531250\n",
      "Epoch 22, CIFAR-10 Batch 5:  Loss:     0.1629 Validation Accuracy: 0.527344\n",
      "Epoch 23, CIFAR-10 Batch 1:  Loss:     0.2357 Validation Accuracy: 0.531250\n",
      "Epoch 23, CIFAR-10 Batch 2:  Loss:     0.3038 Validation Accuracy: 0.539062\n",
      "Epoch 23, CIFAR-10 Batch 3:  Loss:     0.1785 Validation Accuracy: 0.500000\n",
      "Epoch 23, CIFAR-10 Batch 4:  Loss:     0.1206 Validation Accuracy: 0.531250\n",
      "Epoch 23, CIFAR-10 Batch 5:  Loss:     0.1968 Validation Accuracy: 0.511719\n",
      "Epoch 24, CIFAR-10 Batch 1:  Loss:     0.1827 Validation Accuracy: 0.480469\n",
      "Epoch 24, CIFAR-10 Batch 2:  Loss:     0.2524 Validation Accuracy: 0.531250\n",
      "Epoch 24, CIFAR-10 Batch 3:  Loss:     0.1395 Validation Accuracy: 0.519531\n",
      "Epoch 24, CIFAR-10 Batch 4:  Loss:     0.1235 Validation Accuracy: 0.523438\n",
      "Epoch 24, CIFAR-10 Batch 5:  Loss:     0.3339 Validation Accuracy: 0.558594\n",
      "Epoch 25, CIFAR-10 Batch 1:  Loss:     0.1087 Validation Accuracy: 0.519531\n",
      "Epoch 25, CIFAR-10 Batch 2:  Loss:     0.2125 Validation Accuracy: 0.546875\n",
      "Epoch 25, CIFAR-10 Batch 3:  Loss:     0.1722 Validation Accuracy: 0.562500\n",
      "Epoch 25, CIFAR-10 Batch 4:  Loss:     0.1014 Validation Accuracy: 0.554688\n",
      "Epoch 25, CIFAR-10 Batch 5:  Loss:     0.1783 Validation Accuracy: 0.488281\n",
      "Epoch 26, CIFAR-10 Batch 1:  Loss:     0.1624 Validation Accuracy: 0.542969\n",
      "Epoch 26, CIFAR-10 Batch 2:  Loss:     0.1587 Validation Accuracy: 0.519531\n",
      "Epoch 26, CIFAR-10 Batch 3:  Loss:     0.1239 Validation Accuracy: 0.511719\n",
      "Epoch 26, CIFAR-10 Batch 4:  Loss:     0.0937 Validation Accuracy: 0.566406\n",
      "Epoch 26, CIFAR-10 Batch 5:  Loss:     0.2016 Validation Accuracy: 0.531250\n",
      "Epoch 27, CIFAR-10 Batch 1:  Loss:     0.1213 Validation Accuracy: 0.566406\n",
      "Epoch 27, CIFAR-10 Batch 2:  Loss:     0.1387 Validation Accuracy: 0.546875\n",
      "Epoch 27, CIFAR-10 Batch 3:  Loss:     0.0720 Validation Accuracy: 0.562500\n",
      "Epoch 27, CIFAR-10 Batch 4:  Loss:     0.0620 Validation Accuracy: 0.539062\n",
      "Epoch 27, CIFAR-10 Batch 5:  Loss:     0.2382 Validation Accuracy: 0.550781\n",
      "Epoch 28, CIFAR-10 Batch 1:  Loss:     0.0926 Validation Accuracy: 0.578125\n",
      "Epoch 28, CIFAR-10 Batch 2:  Loss:     0.1274 Validation Accuracy: 0.558594\n",
      "Epoch 28, CIFAR-10 Batch 3:  Loss:     0.1345 Validation Accuracy: 0.558594\n",
      "Epoch 28, CIFAR-10 Batch 4:  Loss:     0.0950 Validation Accuracy: 0.566406\n",
      "Epoch 28, CIFAR-10 Batch 5:  Loss:     0.1474 Validation Accuracy: 0.484375\n",
      "Epoch 29, CIFAR-10 Batch 1:  Loss:     0.0857 Validation Accuracy: 0.546875\n",
      "Epoch 29, CIFAR-10 Batch 2:  Loss:     0.0613 Validation Accuracy: 0.550781\n",
      "Epoch 29, CIFAR-10 Batch 3:  Loss:     0.1205 Validation Accuracy: 0.558594\n",
      "Epoch 29, CIFAR-10 Batch 4:  Loss:     0.0824 Validation Accuracy: 0.511719\n",
      "Epoch 29, CIFAR-10 Batch 5:  Loss:     0.1751 Validation Accuracy: 0.574219\n",
      "Epoch 30, CIFAR-10 Batch 1:  Loss:     0.0791 Validation Accuracy: 0.578125\n",
      "Epoch 30, CIFAR-10 Batch 2:  Loss:     0.1275 Validation Accuracy: 0.554688\n",
      "Epoch 30, CIFAR-10 Batch 3:  Loss:     0.0910 Validation Accuracy: 0.593750\n",
      "Epoch 30, CIFAR-10 Batch 4:  Loss:     0.1317 Validation Accuracy: 0.562500\n",
      "Epoch 30, CIFAR-10 Batch 5:  Loss:     0.1485 Validation Accuracy: 0.539062\n",
      "Epoch 31, CIFAR-10 Batch 1:  Loss:     0.0665 Validation Accuracy: 0.535156\n",
      "Epoch 31, CIFAR-10 Batch 2:  Loss:     0.1010 Validation Accuracy: 0.546875\n",
      "Epoch 31, CIFAR-10 Batch 3:  Loss:     0.1205 Validation Accuracy: 0.535156\n",
      "Epoch 31, CIFAR-10 Batch 4:  Loss:     0.0708 Validation Accuracy: 0.566406\n",
      "Epoch 31, CIFAR-10 Batch 5:  Loss:     0.1792 Validation Accuracy: 0.511719\n",
      "Epoch 32, CIFAR-10 Batch 1:  Loss:     0.1206 Validation Accuracy: 0.554688\n",
      "Epoch 32, CIFAR-10 Batch 2:  Loss:     0.0814 Validation Accuracy: 0.550781\n",
      "Epoch 32, CIFAR-10 Batch 3:  Loss:     0.0419 Validation Accuracy: 0.550781\n",
      "Epoch 32, CIFAR-10 Batch 4:  Loss:     0.0712 Validation Accuracy: 0.527344\n",
      "Epoch 32, CIFAR-10 Batch 5:  Loss:     0.1074 Validation Accuracy: 0.558594\n",
      "Epoch 33, CIFAR-10 Batch 1:  Loss:     0.1029 Validation Accuracy: 0.574219\n",
      "Epoch 33, CIFAR-10 Batch 2:  Loss:     0.0509 Validation Accuracy: 0.515625\n",
      "Epoch 33, CIFAR-10 Batch 3:  Loss:     0.0831 Validation Accuracy: 0.542969\n",
      "Epoch 33, CIFAR-10 Batch 4:  Loss:     0.1952 Validation Accuracy: 0.503906\n",
      "Epoch 33, CIFAR-10 Batch 5:  Loss:     0.1086 Validation Accuracy: 0.531250\n",
      "Epoch 34, CIFAR-10 Batch 1:  Loss:     0.0816 Validation Accuracy: 0.558594\n",
      "Epoch 34, CIFAR-10 Batch 2:  Loss:     0.0384 Validation Accuracy: 0.523438\n",
      "Epoch 34, CIFAR-10 Batch 3:  Loss:     0.0780 Validation Accuracy: 0.578125\n",
      "Epoch 34, CIFAR-10 Batch 4:  Loss:     0.0376 Validation Accuracy: 0.562500\n",
      "Epoch 34, CIFAR-10 Batch 5:  Loss:     0.0749 Validation Accuracy: 0.539062\n",
      "Epoch 35, CIFAR-10 Batch 1:  Loss:     0.0601 Validation Accuracy: 0.542969\n",
      "Epoch 35, CIFAR-10 Batch 2:  Loss:     0.0501 Validation Accuracy: 0.515625\n",
      "Epoch 35, CIFAR-10 Batch 3:  Loss:     0.0703 Validation Accuracy: 0.558594\n",
      "Epoch 35, CIFAR-10 Batch 4:  Loss:     0.0458 Validation Accuracy: 0.539062\n",
      "Epoch 35, CIFAR-10 Batch 5:  Loss:     0.0435 Validation Accuracy: 0.542969\n",
      "Epoch 36, CIFAR-10 Batch 1:  Loss:     0.0589 Validation Accuracy: 0.550781\n",
      "Epoch 36, CIFAR-10 Batch 2:  Loss:     0.0263 Validation Accuracy: 0.503906\n",
      "Epoch 36, CIFAR-10 Batch 3:  Loss:     0.0479 Validation Accuracy: 0.531250\n",
      "Epoch 36, CIFAR-10 Batch 4:  Loss:     0.0842 Validation Accuracy: 0.539062\n",
      "Epoch 36, CIFAR-10 Batch 5:  Loss:     0.0665 Validation Accuracy: 0.562500\n",
      "Epoch 37, CIFAR-10 Batch 1:  Loss:     0.0880 Validation Accuracy: 0.550781\n",
      "Epoch 37, CIFAR-10 Batch 2:  Loss:     0.0486 Validation Accuracy: 0.527344\n",
      "Epoch 37, CIFAR-10 Batch 3:  Loss:     0.0450 Validation Accuracy: 0.546875\n",
      "Epoch 37, CIFAR-10 Batch 4:  Loss:     0.0722 Validation Accuracy: 0.527344\n",
      "Epoch 37, CIFAR-10 Batch 5:  Loss:     0.0488 Validation Accuracy: 0.585938\n",
      "Epoch 38, CIFAR-10 Batch 1:  Loss:     0.0333 Validation Accuracy: 0.566406\n",
      "Epoch 38, CIFAR-10 Batch 2:  Loss:     0.0204 Validation Accuracy: 0.558594\n",
      "Epoch 38, CIFAR-10 Batch 3:  Loss:     0.0589 Validation Accuracy: 0.582031\n",
      "Epoch 38, CIFAR-10 Batch 4:  Loss:     0.0619 Validation Accuracy: 0.554688\n",
      "Epoch 38, CIFAR-10 Batch 5:  Loss:     0.0905 Validation Accuracy: 0.542969\n",
      "Epoch 39, CIFAR-10 Batch 1:  Loss:     0.0423 Validation Accuracy: 0.539062\n",
      "Epoch 39, CIFAR-10 Batch 2:  Loss:     0.0218 Validation Accuracy: 0.511719\n",
      "Epoch 39, CIFAR-10 Batch 3:  Loss:     0.0496 Validation Accuracy: 0.554688\n",
      "Epoch 39, CIFAR-10 Batch 4:  Loss:     0.0202 Validation Accuracy: 0.507812\n",
      "Epoch 39, CIFAR-10 Batch 5:  Loss:     0.0455 Validation Accuracy: 0.539062\n",
      "Epoch 40, CIFAR-10 Batch 1:  Loss:     0.0545 Validation Accuracy: 0.523438\n",
      "Epoch 40, CIFAR-10 Batch 2:  Loss:     0.0331 Validation Accuracy: 0.527344\n",
      "Epoch 40, CIFAR-10 Batch 3:  Loss:     0.0264 Validation Accuracy: 0.589844\n",
      "Epoch 40, CIFAR-10 Batch 4:  Loss:     0.0784 Validation Accuracy: 0.539062\n",
      "Epoch 40, CIFAR-10 Batch 5:  Loss:     0.1064 Validation Accuracy: 0.531250\n",
      "Epoch 41, CIFAR-10 Batch 1:  Loss:     0.0313 Validation Accuracy: 0.542969\n",
      "Epoch 41, CIFAR-10 Batch 2:  Loss:     0.0296 Validation Accuracy: 0.542969\n",
      "Epoch 41, CIFAR-10 Batch 3:  Loss:     0.0217 Validation Accuracy: 0.535156\n",
      "Epoch 41, CIFAR-10 Batch 4:  Loss:     0.0186 Validation Accuracy: 0.566406\n",
      "Epoch 41, CIFAR-10 Batch 5:  Loss:     0.0669 Validation Accuracy: 0.539062\n",
      "Epoch 42, CIFAR-10 Batch 1:  Loss:     0.0341 Validation Accuracy: 0.554688\n",
      "Epoch 42, CIFAR-10 Batch 2:  Loss:     0.0113 Validation Accuracy: 0.554688\n",
      "Epoch 42, CIFAR-10 Batch 3:  Loss:     0.0163 Validation Accuracy: 0.554688\n",
      "Epoch 42, CIFAR-10 Batch 4:  Loss:     0.0374 Validation Accuracy: 0.578125\n",
      "Epoch 42, CIFAR-10 Batch 5:  Loss:     0.0395 Validation Accuracy: 0.550781\n",
      "Epoch 43, CIFAR-10 Batch 1:  Loss:     0.0270 Validation Accuracy: 0.550781\n",
      "Epoch 43, CIFAR-10 Batch 2:  Loss:     0.0188 Validation Accuracy: 0.546875\n",
      "Epoch 43, CIFAR-10 Batch 3:  Loss:     0.0517 Validation Accuracy: 0.558594\n",
      "Epoch 43, CIFAR-10 Batch 4:  Loss:     0.0408 Validation Accuracy: 0.574219\n",
      "Epoch 43, CIFAR-10 Batch 5:  Loss:     0.0746 Validation Accuracy: 0.566406\n",
      "Epoch 44, CIFAR-10 Batch 1:  Loss:     0.0314 Validation Accuracy: 0.554688\n"
     ]
    },
    {
     "name": "stdout",
     "output_type": "stream",
     "text": [
      "Epoch 44, CIFAR-10 Batch 2:  Loss:     0.0458 Validation Accuracy: 0.531250\n",
      "Epoch 44, CIFAR-10 Batch 3:  Loss:     0.0198 Validation Accuracy: 0.554688\n",
      "Epoch 44, CIFAR-10 Batch 4:  Loss:     0.0331 Validation Accuracy: 0.539062\n",
      "Epoch 44, CIFAR-10 Batch 5:  Loss:     0.0432 Validation Accuracy: 0.550781\n",
      "Epoch 45, CIFAR-10 Batch 1:  Loss:     0.0600 Validation Accuracy: 0.535156\n",
      "Epoch 45, CIFAR-10 Batch 2:  Loss:     0.0165 Validation Accuracy: 0.570312\n",
      "Epoch 45, CIFAR-10 Batch 3:  Loss:     0.0411 Validation Accuracy: 0.562500\n",
      "Epoch 45, CIFAR-10 Batch 4:  Loss:     0.0588 Validation Accuracy: 0.531250\n",
      "Epoch 45, CIFAR-10 Batch 5:  Loss:     0.0658 Validation Accuracy: 0.531250\n",
      "Epoch 46, CIFAR-10 Batch 1:  Loss:     0.0625 Validation Accuracy: 0.500000\n",
      "Epoch 46, CIFAR-10 Batch 2:  Loss:     0.0569 Validation Accuracy: 0.523438\n",
      "Epoch 46, CIFAR-10 Batch 3:  Loss:     0.0195 Validation Accuracy: 0.558594\n",
      "Epoch 46, CIFAR-10 Batch 4:  Loss:     0.0220 Validation Accuracy: 0.578125\n",
      "Epoch 46, CIFAR-10 Batch 5:  Loss:     0.0280 Validation Accuracy: 0.546875\n",
      "Epoch 47, CIFAR-10 Batch 1:  Loss:     0.0278 Validation Accuracy: 0.519531\n",
      "Epoch 47, CIFAR-10 Batch 2:  Loss:     0.0095 Validation Accuracy: 0.519531\n",
      "Epoch 47, CIFAR-10 Batch 3:  Loss:     0.0172 Validation Accuracy: 0.523438\n",
      "Epoch 47, CIFAR-10 Batch 4:  Loss:     0.0660 Validation Accuracy: 0.558594\n",
      "Epoch 47, CIFAR-10 Batch 5:  Loss:     0.0202 Validation Accuracy: 0.539062\n",
      "Epoch 48, CIFAR-10 Batch 1:  Loss:     0.0219 Validation Accuracy: 0.550781\n",
      "Epoch 48, CIFAR-10 Batch 2:  Loss:     0.0937 Validation Accuracy: 0.546875\n",
      "Epoch 48, CIFAR-10 Batch 3:  Loss:     0.0360 Validation Accuracy: 0.546875\n",
      "Epoch 48, CIFAR-10 Batch 4:  Loss:     0.0336 Validation Accuracy: 0.542969\n",
      "Epoch 48, CIFAR-10 Batch 5:  Loss:     0.0663 Validation Accuracy: 0.527344\n",
      "Epoch 49, CIFAR-10 Batch 1:  Loss:     0.0280 Validation Accuracy: 0.554688\n",
      "Epoch 49, CIFAR-10 Batch 2:  Loss:     0.0083 Validation Accuracy: 0.582031\n",
      "Epoch 49, CIFAR-10 Batch 3:  Loss:     0.0128 Validation Accuracy: 0.550781\n",
      "Epoch 49, CIFAR-10 Batch 4:  Loss:     0.0535 Validation Accuracy: 0.589844\n",
      "Epoch 49, CIFAR-10 Batch 5:  Loss:     0.0400 Validation Accuracy: 0.601562\n",
      "Epoch 50, CIFAR-10 Batch 1:  Loss:     0.0046 Validation Accuracy: 0.546875\n",
      "Epoch 50, CIFAR-10 Batch 2:  Loss:     0.0068 Validation Accuracy: 0.542969\n",
      "Epoch 50, CIFAR-10 Batch 3:  Loss:     0.0537 Validation Accuracy: 0.585938\n",
      "Epoch 50, CIFAR-10 Batch 4:  Loss:     0.0251 Validation Accuracy: 0.574219\n",
      "Epoch 50, CIFAR-10 Batch 5:  Loss:     0.0158 Validation Accuracy: 0.578125\n"
     ]
    }
   ],
   "source": [
    "\"\"\"\n",
    "DON'T MODIFY ANYTHING IN THIS CELL\n",
    "\"\"\"\n",
    "save_model_path = './image_classification'\n",
    "\n",
    "print('Training...')\n",
    "with tf.Session() as sess:\n",
    "    # Initializing the variables\n",
    "    sess.run(tf.global_variables_initializer())\n",
    "    \n",
    "    # Training cycle\n",
    "    for epoch in range(epochs):\n",
    "        # Loop over all batches\n",
    "        n_batches = 5\n",
    "        for batch_i in range(1, n_batches + 1):\n",
    "            for batch_features, batch_labels in helper.load_preprocess_training_batch(batch_i, batch_size):\n",
    "                train_neural_network(sess, optimizer, keep_probability, batch_features, batch_labels)\n",
    "            print('Epoch {:>2}, CIFAR-10 Batch {}:  '.format(epoch + 1, batch_i), end='')\n",
    "            print_stats(sess, batch_features, batch_labels, cost, accuracy)\n",
    "            \n",
    "    # Save Model\n",
    "    saver = tf.train.Saver()\n",
    "    save_path = saver.save(sess, save_model_path)"
   ]
  },
  {
   "cell_type": "markdown",
   "metadata": {},
   "source": [
    "# Checkpoint\n",
    "The model has been saved to disk.\n",
    "## Test Model\n",
    "Test your model against the test dataset.  This will be your final accuracy. You should have an accuracy greater than 50%. If you don't, keep tweaking the model architecture and parameters."
   ]
  },
  {
   "cell_type": "code",
   "execution_count": 139,
   "metadata": {},
   "outputs": [
    {
     "name": "stdout",
     "output_type": "stream",
     "text": [
      "Testing Accuracy: 0.5904657643312102\n",
      "\n"
     ]
    },
    {
     "data": {
      "image/png": "[encoded data removed]",
      "text/plain": [
       "<matplotlib.figure.Figure at 0x7f6fcfa63ba8>"
      ]
     },
     "metadata": {
      "image/png": {
       "height": 319,
       "width": 355
      }
     },
     "output_type": "display_data"
    }
   ],
   "source": [
    "\"\"\"\n",
    "DON'T MODIFY ANYTHING IN THIS CELL\n",
    "\"\"\"\n",
    "%matplotlib inline\n",
    "%config InlineBackend.figure_format = 'retina'\n",
    "\n",
    "import tensorflow as tf\n",
    "import pickle\n",
    "import helper\n",
    "import random\n",
    "\n",
    "# Set batch size if not already set\n",
    "try:\n",
    "    if batch_size:\n",
    "        pass\n",
    "except NameError:\n",
    "    batch_size = 64\n",
    "\n",
    "save_model_path = './image_classification'\n",
    "n_samples = 4\n",
    "top_n_predictions = 3\n",
    "\n",
    "def test_model():\n",
    "    \"\"\"\n",
    "    Test the saved model against the test dataset\n",
    "    \"\"\"\n",
    "\n",
    "    test_features, test_labels = pickle.load(open('preprocess_training.p', mode='rb'))\n",
    "    loaded_graph = tf.Graph()\n",
    "\n",
    "    with tf.Session(graph=loaded_graph) as sess:\n",
    "        # Load model\n",
    "        loader = tf.train.import_meta_graph(save_model_path + '.meta')\n",
    "        loader.restore(sess, save_model_path)\n",
    "\n",
    "        # Get Tensors from loaded model\n",
    "        loaded_x = loaded_graph.get_tensor_by_name('x:0')\n",
    "        loaded_y = loaded_graph.get_tensor_by_name('y:0')\n",
    "        loaded_keep_prob = loaded_graph.get_tensor_by_name('keep_prob:0')\n",
    "        loaded_logits = loaded_graph.get_tensor_by_name('logits:0')\n",
    "        loaded_acc = loaded_graph.get_tensor_by_name('accuracy:0')\n",
    "        \n",
    "        # Get accuracy in batches for memory limitations\n",
    "        test_batch_acc_total = 0\n",
    "        test_batch_count = 0\n",
    "        \n",
    "        for train_feature_batch, train_label_batch in helper.batch_features_labels(test_features, test_labels, batch_size):\n",
    "            test_batch_acc_total += sess.run(\n",
    "                loaded_acc,\n",
    "                feed_dict={loaded_x: train_feature_batch, loaded_y: train_label_batch, loaded_keep_prob: 1.0})\n",
    "            test_batch_count += 1\n",
    "\n",
    "        print('Testing Accuracy: {}\\n'.format(test_batch_acc_total/test_batch_count))\n",
    "\n",
    "        # Print Random Samples\n",
    "        random_test_features, random_test_labels = tuple(zip(*random.sample(list(zip(test_features, test_labels)), n_samples)))\n",
    "        random_test_predictions = sess.run(\n",
    "            tf.nn.top_k(tf.nn.softmax(loaded_logits), top_n_predictions),\n",
    "            feed_dict={loaded_x: random_test_features, loaded_y: random_test_labels, loaded_keep_prob: 1.0})\n",
    "        helper.display_image_predictions(random_test_features, random_test_labels, random_test_predictions)\n",
    "\n",
    "\n",
    "test_model()"
   ]
  },
  {
   "cell_type": "markdown",
   "metadata": {},
   "source": [
    "## Why 50-80% Accuracy?\n",
    "You might be wondering why you can't get an accuracy any higher. First things first, 50% isn't bad for a simple CNN.  Pure guessing would get you 10% accuracy. However, you might notice people are getting scores [well above 80%](http://rodrigob.github.io/are_we_there_yet/build/classification_datasets_results.html#43494641522d3130).  That's because we haven't taught you all there is to know about neural networks. We still need to cover a few more techniques.\n",
    "## Submitting This Project\n",
    "When submitting this project, make sure to run all the cells before saving the notebook.  Save the notebook file as \"dlnd_image_classification.ipynb\" and save it as a HTML file under \"File\" -> \"Download as\".  Include the \"helper.py\" and \"problem_unittests.py\" files in your submission."
   ]
  },
  {
   "cell_type": "code",
   "execution_count": null,
   "metadata": {
    "collapsed": true
   },
   "outputs": [],
   "source": []
  }
 ],
 "metadata": {
  "anaconda-cloud": {},
  "kernelspec": {
   "display_name": "Python [default]",
   "language": "python",
   "name": "python3"
  },
  "language_info": {
   "codemirror_mode": {
    "name": "ipython",
    "version": 3
   },
   "file_extension": ".py",
   "mimetype": "text/x-python",
   "name": "python",
   "nbconvert_exporter": "python",
   "pygments_lexer": "ipython3",
   "version": "3.5.2"
  }
 },
 "nbformat": 4,
 "nbformat_minor": 1
}
